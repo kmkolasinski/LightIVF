{
 "cells": [
  {
   "cell_type": "markdown",
   "metadata": {},
   "source": [
    "Download vectors from http://ann-benchmarks.com/glove-200-angular.hdf5"
   ]
  },
  {
   "cell_type": "code",
   "execution_count": null,
   "metadata": {},
   "outputs": [],
   "source": [
    "%load_ext autoreload\n",
    "%autoreload 2"
   ]
  },
  {
   "cell_type": "code",
   "execution_count": null,
   "metadata": {},
   "outputs": [],
   "source": [
    "import os\n",
    "os.environ[\"CUDA_VISIBLE_DEVICES\"] = \"-1\""
   ]
  },
  {
   "cell_type": "code",
   "execution_count": null,
   "metadata": {},
   "outputs": [],
   "source": [
    "import h5py\n",
    "import numpy as np\n",
    "data = h5py.File('glove-100-angular.hdf5', 'r')"
   ]
  },
  {
   "cell_type": "code",
   "execution_count": null,
   "metadata": {},
   "outputs": [],
   "source": [
    "train_embeddings = data['train'][:]\n",
    "test_embeddings = data['test'][:]"
   ]
  },
  {
   "cell_type": "code",
   "execution_count": null,
   "metadata": {},
   "outputs": [],
   "source": [
    "train_embeddings = train_embeddings / np.linalg.norm(train_embeddings, axis=1).reshape(-1, 1)\n",
    "test_embeddings = test_embeddings / np.linalg.norm(test_embeddings, axis=1).reshape(-1, 1)"
   ]
  },
  {
   "cell_type": "code",
   "execution_count": null,
   "metadata": {},
   "outputs": [],
   "source": [
    "exact_indices = data['neighbors'][:, 0]"
   ]
  },
  {
   "cell_type": "code",
   "execution_count": null,
   "metadata": {},
   "outputs": [],
   "source": [
    "d = test_embeddings.shape[1]\n",
    "d, train_embeddings.shape, test_embeddings.shape"
   ]
  },
  {
   "cell_type": "code",
   "execution_count": null,
   "metadata": {},
   "outputs": [],
   "source": [
    "from fast_ivf import FastIVF\n",
    "nlist = 2048\n",
    "index = FastIVF(d, nlist=nlist, nprobe=10, compression_ndim=64)\n",
    "index.compressor.learning_rate = 0.001\n",
    "index.compressor.steps_per_epoch = 10000\n",
    "index.compressor.epochs = 10\n",
    "index.compressor.activation = None\n",
    "index.compressor.dropout = 0.0\n",
    "\n",
    "index.train(train_embeddings)"
   ]
  },
  {
   "cell_type": "code",
   "execution_count": null,
   "metadata": {},
   "outputs": [],
   "source": [
    "import matplotlib.pyplot as plt\n",
    "plt.figure(figsize=(15, 5))\n",
    "plt.subplot(1, 2, 1)\n",
    "plt.plot(index.kmeans._history)\n",
    "plt.yscale(\"log\")\n",
    "plt.subplot(1, 2, 2)\n",
    "indices, counts = np.unique(index.kmeans._labels, return_counts=True)\n",
    "plt.hist(counts, 100);"
   ]
  },
  {
   "cell_type": "code",
   "execution_count": null,
   "metadata": {},
   "outputs": [],
   "source": [
    "import numba as nb\n",
    "\n",
    "index.nprobe = 10\n",
    "index.rescore_num_samples = 20\n",
    "distances, indices = index.search(test_embeddings, k=500, rescore=True)\n",
    "\n",
    "idx = 0\n",
    "query = test_embeddings[idx]\n",
    "exact_distances = train_embeddings[indices[idx]] @ query\n",
    "\n",
    "plt.scatter(exact_distances, distances[idx])"
   ]
  },
  {
   "cell_type": "code",
   "execution_count": null,
   "metadata": {},
   "outputs": [],
   "source": [
    "index.nprobe = 250\n",
    "index.ratio_threshold = 0.0000\n",
    "index.rescore_num_samples = -1\n",
    "distances, indices = index.search(test_embeddings, k=500, rescore=True, sort=True)\n",
    "\n",
    "\n",
    "accuracies = []\n",
    "for i, query_points_indices in enumerate(indices):\n",
    "    # acc = exact_indices[i] in query_points_indices\n",
    "    acc = exact_indices[i] in query_points_indices[:1]\n",
    "    accuracies.append(acc)\n",
    "np.mean(accuracies)"
   ]
  },
  {
   "cell_type": "code",
   "execution_count": null,
   "metadata": {},
   "outputs": [],
   "source": [
    "import faiss\n",
    "from collections import defaultdict\n",
    "\n",
    "d = train_embeddings.shape[1]\n",
    "nlist = 1024\n",
    "\n",
    "quantizer = faiss.IndexFlatIP(d)\n",
    "faiss_index = faiss.IndexIVFFlat(quantizer, d, nlist, faiss.METRIC_INNER_PRODUCT)\n",
    "faiss_index.nprobe = 5\n",
    "faiss_index.train(train_embeddings)\n",
    "faiss_index.add(train_embeddings)"
   ]
  },
  {
   "cell_type": "code",
   "execution_count": null,
   "metadata": {},
   "outputs": [],
   "source": [
    "faiss_index.nprobe = 100\n",
    "distances, indices = faiss_index.search(test_embeddings, 100)\n",
    "(indices[:, 0] == np.array(exact_indices)).mean()"
   ]
  },
  {
   "cell_type": "code",
   "execution_count": null,
   "metadata": {},
   "outputs": [],
   "source": []
  }
 ],
 "metadata": {
  "kernelspec": {
   "display_name": "ml3.11",
   "language": "python",
   "name": "python3"
  },
  "language_info": {
   "codemirror_mode": {
    "name": "ipython",
    "version": 3
   },
   "file_extension": ".py",
   "mimetype": "text/x-python",
   "name": "python",
   "nbconvert_exporter": "python",
   "pygments_lexer": "ipython3",
   "version": "3.11.4"
  },
  "orig_nbformat": 4
 },
 "nbformat": 4,
 "nbformat_minor": 2
}
