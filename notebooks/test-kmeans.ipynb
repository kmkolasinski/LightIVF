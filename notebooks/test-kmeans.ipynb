{
 "cells": [
  {
   "cell_type": "code",
   "execution_count": 1,
   "metadata": {},
   "outputs": [],
   "source": [
    "from sklearn import metrics\n",
    "from sklearn.cluster import KMeans\n",
    "from fast_ivf.kmeans import MiniBatchKMeans\n",
    "from sklearn.datasets import make_blobs\n",
    "\n",
    "clustering_metrics = [\n",
    "    metrics.homogeneity_score,\n",
    "    metrics.completeness_score,\n",
    "    metrics.v_measure_score,\n",
    "    metrics.adjusted_rand_score,\n",
    "    metrics.adjusted_mutual_info_score,\n",
    "]"
   ]
  },
  {
   "cell_type": "code",
   "execution_count": 2,
   "metadata": {},
   "outputs": [
    {
     "data": {
      "text/plain": [
       "((200000, 128), (200000,))"
      ]
     },
     "execution_count": 2,
     "metadata": {},
     "output_type": "execute_result"
    }
   ],
   "source": [
    "\n",
    "\n",
    "n_samples = 200000\n",
    "n_features = 128\n",
    "random_state = 170\n",
    "\n",
    "X, y = make_blobs(n_samples=n_samples, n_features=n_features, random_state=random_state)\n",
    "X.shape, y.shape"
   ]
  },
  {
   "cell_type": "code",
   "execution_count": 3,
   "metadata": {},
   "outputs": [
    {
     "name": "stdout",
     "output_type": "stream",
     "text": [
      "CPU times: user 15.6 s, sys: 57.5 ms, total: 15.7 s\n",
      "Wall time: 2.83 s\n"
     ]
    }
   ],
   "source": [
    "%%time\n",
    "\n",
    "kmeans = KMeans(init=\"random\", n_clusters=10, n_init=4, random_state=0)\n",
    "kmeans.fit(X);"
   ]
  },
  {
   "cell_type": "code",
   "execution_count": 4,
   "metadata": {},
   "outputs": [
    {
     "data": {
      "text/plain": [
       "[('homogeneity_score', 1.0000000000000009),\n",
       " ('completeness_score', 0.4790918206636857),\n",
       " ('v_measure_score', 0.647818903425092),\n",
       " ('adjusted_rand_score', 0.3697403582013092),\n",
       " ('adjusted_mutual_info_score', 0.6478095576464267)]"
      ]
     },
     "execution_count": 4,
     "metadata": {},
     "output_type": "execute_result"
    }
   ],
   "source": [
    "[(m.__name__, m(y, kmeans.labels_)) for m in clustering_metrics]"
   ]
  },
  {
   "cell_type": "code",
   "execution_count": 5,
   "metadata": {},
   "outputs": [
    {
     "data": {
      "text/plain": [
       "array([8, 7, 9, 4, 2, 5, 2, 7, 4, 2], dtype=int32)"
      ]
     },
     "execution_count": 5,
     "metadata": {},
     "output_type": "execute_result"
    }
   ],
   "source": [
    "kmeans.predict(X[:10])"
   ]
  },
  {
   "cell_type": "code",
   "execution_count": 7,
   "metadata": {},
   "outputs": [
    {
     "name": "stderr",
     "output_type": "stream",
     "text": [
      "Convergence delta = 0.00005:  26%|██▋       | 1318/5000 [00:00<00:01, 2595.99it/s]\n",
      "Assigning: 100%|██████████| 3125/3125 [00:00<00:00, 81092.85it/s]\n"
     ]
    },
    {
     "name": "stdout",
     "output_type": "stream",
     "text": [
      "CPU times: user 580 ms, sys: 73.8 ms, total: 654 ms\n",
      "Wall time: 577 ms\n"
     ]
    }
   ],
   "source": [
    "%%time\n",
    "\n",
    "kmeans = MiniBatchKMeans(num_centroids=10, batch_size=64, tol=0.00005)\n",
    "kmeans.train(X)\n",
    "kmeans.add(X)"
   ]
  },
  {
   "cell_type": "code",
   "execution_count": 8,
   "metadata": {},
   "outputs": [
    {
     "data": {
      "text/plain": [
       "[('homogeneity_score', 1.0000000000000007),\n",
       " ('completeness_score', 0.49261411860441723),\n",
       " ('v_measure_score', 0.660068952134806),\n",
       " ('adjusted_rand_score', 0.4130456102918084),\n",
       " ('adjusted_mutual_info_score', 0.6600597608067874)]"
      ]
     },
     "execution_count": 8,
     "metadata": {},
     "output_type": "execute_result"
    }
   ],
   "source": [
    "[(m.__name__, m(y, kmeans._labels)) for m in clustering_metrics]"
   ]
  },
  {
   "cell_type": "code",
   "execution_count": 9,
   "metadata": {},
   "outputs": [
    {
     "data": {
      "text/plain": [
       "array([3, 7, 7, 5, 4, 6, 4, 3, 6, 0])"
      ]
     },
     "execution_count": 9,
     "metadata": {},
     "output_type": "execute_result"
    }
   ],
   "source": [
    "kmeans.predict(X[:10])"
   ]
  },
  {
   "cell_type": "code",
   "execution_count": null,
   "metadata": {},
   "outputs": [],
   "source": []
  }
 ],
 "metadata": {
  "kernelspec": {
   "display_name": "ml3.11",
   "language": "python",
   "name": "python3"
  },
  "language_info": {
   "codemirror_mode": {
    "name": "ipython",
    "version": 3
   },
   "file_extension": ".py",
   "mimetype": "text/x-python",
   "name": "python",
   "nbconvert_exporter": "python",
   "pygments_lexer": "ipython3",
   "version": "3.11.4"
  },
  "orig_nbformat": 4
 },
 "nbformat": 4,
 "nbformat_minor": 2
}
